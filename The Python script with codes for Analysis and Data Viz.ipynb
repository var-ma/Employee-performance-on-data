{
 "cells": [
  {
   "cell_type": "markdown",
   "id": "4605f618-383b-4032-8b91-dd19c2c7097c",
   "metadata": {},
   "source": [
    "<div style=\"padding:5px; font-size: 24px; font-weight: bold; text-align: center\">FINAL DECISION </div>"
   ]
  },
  {
   "cell_type": "code",
   "execution_count": 2,
   "id": "035e5f43-d5b8-4b52-9ed1-0aee3d931ef8",
   "metadata": {},
   "outputs": [],
   "source": [
    "# Importing the required libraries\n",
    "import pandas as pd\n",
    "import numpy as np\n",
    "import matplotlib.pyplot as plt\n",
    "import seaborn as sns\n",
    "\n",
    "from sklearn.model_selection import train_test_split\n",
    "from sklearn.linear_model import LogisticRegression\n",
    "from sklearn.metrics import accuracy_score, precision_score, recall_score, f1_score, roc_auc_score, confusion_matrix\n",
    "\n",
    "from xgboost import XGBClassifier\n",
    "from catboost import CatBoostClassifier\n",
    "from lightgbm import LGBMClassifier\n",
    "\n",
    "#Supress warnings\n",
    "import warnings\n",
    "warnings.filterwarnings(\"ignore\")"
   ]
  },
  {
   "cell_type": "markdown",
   "id": "e3909626-3f36-4cb4-8a86-4eaacbb48612",
   "metadata": {},
   "source": [
    "<div style=\"padding:10px; font-size:18px; background-color: lightblue; font-weight:bold; font-style: italic\">Data Processing And Preparation </div>"
   ]
  },
  {
   "cell_type": "code",
   "execution_count": 4,
   "id": "07db9633-5c09-4039-ab94-5180cf848954",
   "metadata": {},
   "outputs": [],
   "source": [
    "#Importing required libraries\n",
    "import pandas as pd\n",
    "import numpy as np\n",
    "import matplotlib.pyplot as plt\n",
    "import seaborn as sns\n",
    "\n",
    "#Supress warnings\n",
    "import warnings\n",
    "warnings.filterwarnings(\"ignore\")"
   ]
  },
  {
   "cell_type": "code",
   "execution_count": 5,
   "id": "78f13ab0-9bf8-4c0b-8b06-0ac4804d9046",
   "metadata": {},
   "outputs": [],
   "source": [
    "# Reading the Dataset\n",
    "df_test = pd.read_csv('Test_data.csv')"
   ]
  },
  {
   "cell_type": "code",
   "execution_count": 6,
   "id": "87588569-492d-4a1a-9d4f-469786da4e0c",
   "metadata": {},
   "outputs": [
    {
     "data": {
      "text/html": [
       "<div>\n",
       "<style scoped>\n",
       "    .dataframe tbody tr th:only-of-type {\n",
       "        vertical-align: middle;\n",
       "    }\n",
       "\n",
       "    .dataframe tbody tr th {\n",
       "        vertical-align: top;\n",
       "    }\n",
       "\n",
       "    .dataframe thead th {\n",
       "        text-align: right;\n",
       "    }\n",
       "</style>\n",
       "<table border=\"1\" class=\"dataframe\">\n",
       "  <thead>\n",
       "    <tr style=\"text-align: right;\">\n",
       "      <th></th>\n",
       "      <th>employee_id</th>\n",
       "      <th>department</th>\n",
       "      <th>region</th>\n",
       "      <th>education</th>\n",
       "      <th>gender</th>\n",
       "      <th>recruitment_channel</th>\n",
       "      <th>no_of_trainings</th>\n",
       "      <th>age</th>\n",
       "      <th>previous_year_rating</th>\n",
       "      <th>length_of_service</th>\n",
       "      <th>KPIs_met &gt;80%</th>\n",
       "      <th>awards_won?</th>\n",
       "      <th>avg_training_score</th>\n",
       "    </tr>\n",
       "  </thead>\n",
       "  <tbody>\n",
       "    <tr>\n",
       "      <th>0</th>\n",
       "      <td>8724</td>\n",
       "      <td>Technology</td>\n",
       "      <td>region_26</td>\n",
       "      <td>Bachelor's</td>\n",
       "      <td>m</td>\n",
       "      <td>sourcing</td>\n",
       "      <td>1</td>\n",
       "      <td>24</td>\n",
       "      <td>NaN</td>\n",
       "      <td>1</td>\n",
       "      <td>1</td>\n",
       "      <td>0</td>\n",
       "      <td>77</td>\n",
       "    </tr>\n",
       "    <tr>\n",
       "      <th>1</th>\n",
       "      <td>74430</td>\n",
       "      <td>HR</td>\n",
       "      <td>region_4</td>\n",
       "      <td>Bachelor's</td>\n",
       "      <td>f</td>\n",
       "      <td>other</td>\n",
       "      <td>1</td>\n",
       "      <td>31</td>\n",
       "      <td>3.0</td>\n",
       "      <td>5</td>\n",
       "      <td>0</td>\n",
       "      <td>0</td>\n",
       "      <td>51</td>\n",
       "    </tr>\n",
       "    <tr>\n",
       "      <th>2</th>\n",
       "      <td>72255</td>\n",
       "      <td>Sales &amp; Marketing</td>\n",
       "      <td>region_13</td>\n",
       "      <td>Bachelor's</td>\n",
       "      <td>m</td>\n",
       "      <td>other</td>\n",
       "      <td>1</td>\n",
       "      <td>31</td>\n",
       "      <td>1.0</td>\n",
       "      <td>4</td>\n",
       "      <td>0</td>\n",
       "      <td>0</td>\n",
       "      <td>47</td>\n",
       "    </tr>\n",
       "    <tr>\n",
       "      <th>3</th>\n",
       "      <td>38562</td>\n",
       "      <td>Procurement</td>\n",
       "      <td>region_2</td>\n",
       "      <td>Bachelor's</td>\n",
       "      <td>f</td>\n",
       "      <td>other</td>\n",
       "      <td>3</td>\n",
       "      <td>31</td>\n",
       "      <td>2.0</td>\n",
       "      <td>9</td>\n",
       "      <td>0</td>\n",
       "      <td>0</td>\n",
       "      <td>65</td>\n",
       "    </tr>\n",
       "    <tr>\n",
       "      <th>4</th>\n",
       "      <td>64486</td>\n",
       "      <td>Finance</td>\n",
       "      <td>region_29</td>\n",
       "      <td>Bachelor's</td>\n",
       "      <td>m</td>\n",
       "      <td>sourcing</td>\n",
       "      <td>1</td>\n",
       "      <td>30</td>\n",
       "      <td>4.0</td>\n",
       "      <td>7</td>\n",
       "      <td>0</td>\n",
       "      <td>0</td>\n",
       "      <td>61</td>\n",
       "    </tr>\n",
       "  </tbody>\n",
       "</table>\n",
       "</div>"
      ],
      "text/plain": [
       "   employee_id         department     region   education gender  \\\n",
       "0         8724         Technology  region_26  Bachelor's      m   \n",
       "1        74430                 HR   region_4  Bachelor's      f   \n",
       "2        72255  Sales & Marketing  region_13  Bachelor's      m   \n",
       "3        38562        Procurement   region_2  Bachelor's      f   \n",
       "4        64486            Finance  region_29  Bachelor's      m   \n",
       "\n",
       "  recruitment_channel  no_of_trainings  age  previous_year_rating  \\\n",
       "0            sourcing                1   24                   NaN   \n",
       "1               other                1   31                   3.0   \n",
       "2               other                1   31                   1.0   \n",
       "3               other                3   31                   2.0   \n",
       "4            sourcing                1   30                   4.0   \n",
       "\n",
       "   length_of_service  KPIs_met >80%  awards_won?  avg_training_score  \n",
       "0                  1              1            0                  77  \n",
       "1                  5              0            0                  51  \n",
       "2                  4              0            0                  47  \n",
       "3                  9              0            0                  65  \n",
       "4                  7              0            0                  61  "
      ]
     },
     "execution_count": 6,
     "metadata": {},
     "output_type": "execute_result"
    }
   ],
   "source": [
    "df_test.head()"
   ]
  },
  {
   "cell_type": "code",
   "execution_count": 7,
   "id": "17112294-c802-4a88-ab01-37f388b1a184",
   "metadata": {},
   "outputs": [
    {
     "data": {
      "text/plain": [
       "(23490, 13)"
      ]
     },
     "execution_count": 7,
     "metadata": {},
     "output_type": "execute_result"
    }
   ],
   "source": [
    "df_test.shape"
   ]
  },
  {
   "cell_type": "code",
   "execution_count": 8,
   "id": "6002831c-3998-453d-bd7b-3b39f71b64ea",
   "metadata": {},
   "outputs": [],
   "source": [
    "df_test = df_test.drop('employee_id', axis=1)"
   ]
  },
  {
   "cell_type": "code",
   "execution_count": 9,
   "id": "441d0317-2610-4bf5-9540-e186697e8a12",
   "metadata": {},
   "outputs": [
    {
     "data": {
      "text/plain": [
       "0"
      ]
     },
     "execution_count": 9,
     "metadata": {},
     "output_type": "execute_result"
    }
   ],
   "source": [
    "# Check for duplicate rows if any available\n",
    "df_test.duplicated().sum()\n",
    "df_test.drop_duplicates(inplace=True)\n",
    "df_test.duplicated().sum()"
   ]
  },
  {
   "cell_type": "code",
   "execution_count": 10,
   "id": "7526e6a4-918f-4b70-86f1-5469c25c65f4",
   "metadata": {},
   "outputs": [
    {
     "data": {
      "text/plain": [
       "department                 0\n",
       "region                     0\n",
       "education               1030\n",
       "gender                     0\n",
       "recruitment_channel        0\n",
       "no_of_trainings            0\n",
       "age                        0\n",
       "previous_year_rating    1797\n",
       "length_of_service          0\n",
       "KPIs_met >80%              0\n",
       "awards_won?                0\n",
       "avg_training_score         0\n",
       "dtype: int64"
      ]
     },
     "execution_count": 10,
     "metadata": {},
     "output_type": "execute_result"
    }
   ],
   "source": [
    "#Since there are null values let us check for the count of missing values in each column\n",
    "df_test.isnull().sum()"
   ]
  },
  {
   "cell_type": "code",
   "execution_count": 11,
   "id": "b37c71d0-d139-4fee-a8e8-67299cd0973b",
   "metadata": {},
   "outputs": [
    {
     "data": {
      "text/plain": [
       "department               9\n",
       "region                  34\n",
       "education                3\n",
       "gender                   2\n",
       "recruitment_channel      3\n",
       "no_of_trainings          9\n",
       "age                     41\n",
       "previous_year_rating     5\n",
       "length_of_service       34\n",
       "KPIs_met >80%            2\n",
       "awards_won?              2\n",
       "avg_training_score      61\n",
       "dtype: int64"
      ]
     },
     "execution_count": 11,
     "metadata": {},
     "output_type": "execute_result"
    }
   ],
   "source": [
    "# checking number of unique values in each column\n",
    "df_test.nunique()"
   ]
  },
  {
   "cell_type": "code",
   "execution_count": 15,
   "id": "65ce9441-cc9c-4614-9396-b3ca440bd429",
   "metadata": {},
   "outputs": [
    {
     "data": {
      "text/plain": [
       "previous_year_rating    7.658541\n",
       "education               4.389703\n",
       "department              0.000000\n",
       "region                  0.000000\n",
       "gender                  0.000000\n",
       "recruitment_channel     0.000000\n",
       "no_of_trainings         0.000000\n",
       "age                     0.000000\n",
       "length_of_service       0.000000\n",
       "KPIs_met >80%           0.000000\n",
       "awards_won?             0.000000\n",
       "avg_training_score      0.000000\n",
       "dtype: float64"
      ]
     },
     "execution_count": 15,
     "metadata": {},
     "output_type": "execute_result"
    }
   ],
   "source": [
    "# Calculating Missing Values Percentage\n",
    "100*(df_test.isna().mean()).sort_values(ascending = False)"
   ]
  },
  {
   "cell_type": "markdown",
   "id": "b23e8032-8627-4c70-affa-7b5590f30192",
   "metadata": {},
   "source": [
    "<div style=\"padding:10px; font-size:18px; font-weight:bold; font-style: italic\"><b> Categorical Column</div>"
   ]
  },
  {
   "cell_type": "markdown",
   "id": "229bc6d5-592f-43e2-9d75-546d96e61684",
   "metadata": {},
   "source": [
    "<b> so we are imputing the missing values using the mode for Categorical columns and Median for Numerical columns."
   ]
  },
  {
   "cell_type": "code",
   "execution_count": 18,
   "id": "e78194bf-f114-41f2-a1e0-202331cfc936",
   "metadata": {},
   "outputs": [],
   "source": [
    "# education missing values to be imputed with mode\n",
    "df_test['education'].fillna(df_test['education'].mode()[0], inplace=True)"
   ]
  },
  {
   "cell_type": "markdown",
   "id": "856d3f92-0110-4540-9e4b-7046ebc57a1f",
   "metadata": {},
   "source": [
    "<div style=\"padding:10px; font-size:18px; font-weight:bold; font-style: italic\"><b> Numerical Column</div>"
   ]
  },
  {
   "cell_type": "markdown",
   "id": "0080f456-a18c-4bb6-88a2-3954b2d81c60",
   "metadata": {},
   "source": [
    "<b> checking Outliers"
   ]
  },
  {
   "cell_type": "code",
   "execution_count": 21,
   "id": "5cbca846-9f2f-4044-82b6-f350d425e4bb",
   "metadata": {},
   "outputs": [
    {
     "name": "stdout",
     "output_type": "stream",
     "text": [
      "Number of outliers in 'previous_year_rating': 2679\n"
     ]
    }
   ],
   "source": [
    "#Calculate Q1 (25th percentile) and Q3 (75th percentile)\n",
    "quartile_1 = df_test['previous_year_rating'].quantile(0.25)\n",
    "quartile_3 = df_test['previous_year_rating'].quantile(0.75)\n",
    "\n",
    "# Compute the Interquartile Range (IQR)\n",
    "IQR = quartile_3 - quartile_1\n",
    "\n",
    "# Define lower and upper bounds for outliers\n",
    "lower_bound = quartile_1 - 1.5 * IQR\n",
    "upper_bound = quartile_3 + 1.5 * IQR\n",
    "\n",
    "# Filter out the outliers\n",
    "outliers = df_test[(df_test['previous_year_rating'] < lower_bound) | \n",
    "                       (df_test['previous_year_rating'] > upper_bound)]\n",
    "\n",
    "# Print the number of outliers found\n",
    "print(\"Number of outliers in 'previous_year_rating':\", outliers.shape[0])"
   ]
  },
  {
   "cell_type": "code",
   "execution_count": 22,
   "id": "130f9cec-2505-4abb-865c-94e5e8a9bffd",
   "metadata": {},
   "outputs": [],
   "source": [
    "# Using the median based on the above output\n",
    "df_test['previous_year_rating'].fillna(df_test['previous_year_rating'].median(), inplace=True)"
   ]
  },
  {
   "cell_type": "code",
   "execution_count": 23,
   "id": "553c392a-36e5-477b-8095-5b231fef44a4",
   "metadata": {},
   "outputs": [
    {
     "data": {
      "text/plain": [
       "department              0\n",
       "region                  0\n",
       "education               0\n",
       "gender                  0\n",
       "recruitment_channel     0\n",
       "no_of_trainings         0\n",
       "age                     0\n",
       "previous_year_rating    0\n",
       "length_of_service       0\n",
       "KPIs_met >80%           0\n",
       "awards_won?             0\n",
       "avg_training_score      0\n",
       "dtype: int64"
      ]
     },
     "execution_count": 23,
     "metadata": {},
     "output_type": "execute_result"
    }
   ],
   "source": [
    "#verify that there is not any missing values\n",
    "df_test.isnull().sum()"
   ]
  },
  {
   "cell_type": "code",
   "execution_count": 24,
   "id": "60657d48-1ef8-405b-aeac-f02816c4d1a4",
   "metadata": {},
   "outputs": [],
   "source": [
    "#Train-Test Split\n",
    "# Create X and y\n",
    "X = df_test.drop('previous_year_rating', axis=1)\n",
    "y = df_test['previous_year_rating']\n",
    "\n",
    "# One-hot encode categorical columns\n",
    "X_encoded = pd.get_dummies(X, drop_first=True)\n",
    "\n",
    "# Train-test split\n",
    "X_train, X_test, y_train, y_test = train_test_split(X_encoded, y, test_size=0.2, random_state=42)"
   ]
  },
  {
   "cell_type": "code",
   "execution_count": 25,
   "id": "85b4293b-ff07-47aa-801e-a5d44f1d1966",
   "metadata": {
    "jp-MarkdownHeadingCollapsed": true
   },
   "outputs": [],
   "source": [
    "import xgboost as xgb\r\n",
    "# Adjust target variable labels to start from 0\r\n",
    "y = y - 1  # Subtract 1 from each class label to make it start from 0\r\n",
    "\r\n",
    "# Train-test split\r\n",
    "X_train, X_test, y_train, y_test = train_test_split(X_encoded, y, test_size=0.2, random_state=42)\r\n",
    "\r\n",
    "# Train the model\r\n",
    "xgb_model = xgb.XGBClassifier(use_label_encoder=False, eval_metric='logloss')\r\n",
    "xgb_model.fit(X_train, y_train)\r\n",
    "\r\n",
    "# Predict\r\n",
    "xgb_preds = xgb_model.predict(X_test)"
   ]
  },
  {
   "cell_type": "code",
   "execution_count": 26,
   "id": "3d3d5466-6ca1-40f9-b8b1-3312a3cc295b",
   "metadata": {},
   "outputs": [],
   "source": [
    "# CatBoost\n",
    "cat_model = CatBoostClassifier(verbose=0)\n",
    "cat_model.fit(X_train, y_train)\n",
    "cat_preds = cat_model.predict(X_test)"
   ]
  },
  {
   "cell_type": "code",
   "execution_count": 27,
   "id": "a9e5b7f7-b31b-4d78-b81a-1fc89e03f433",
   "metadata": {},
   "outputs": [
    {
     "name": "stdout",
     "output_type": "stream",
     "text": [
      "[LightGBM] [Warning] Found whitespace in feature_names, replace with underlines\n",
      "[LightGBM] [Info] Auto-choosing row-wise multi-threading, the overhead of testing was 0.002212 seconds.\n",
      "You can set `force_row_wise=true` to remove the overhead.\n",
      "And if memory is not enough, you can set `force_col_wise=true`.\n",
      "[LightGBM] [Info] Total Bins 239\n",
      "[LightGBM] [Info] Number of data points in the train set: 18771, number of used features: 51\n",
      "[LightGBM] [Info] Start training from score -2.169640\n",
      "[LightGBM] [Info] Start training from score -2.616773\n",
      "[LightGBM] [Info] Start training from score -0.876012\n",
      "[LightGBM] [Info] Start training from score -1.715918\n",
      "[LightGBM] [Info] Start training from score -1.530145\n"
     ]
    }
   ],
   "source": [
    "import lightgbm as lgb\n",
    "# LightGBM\n",
    "lgb_model = lgb.LGBMClassifier()\n",
    "lgb_model.fit(X_train, y_train)\n",
    "lgb_preds = lgb_model.predict(X_test)"
   ]
  },
  {
   "cell_type": "code",
   "execution_count": 28,
   "id": "134d7d29-810d-4ba6-969f-3d07ba1fa6e5",
   "metadata": {},
   "outputs": [
    {
     "name": "stdout",
     "output_type": "stream",
     "text": [
      "      Model  Accuracy  Precision    Recall        F1       AUC\n",
      "0   XGBoost  0.450671   0.326642  0.295397  0.269893  0.682310\n",
      "1  CatBoost  0.449819   0.299481  0.294771  0.270962  0.683805\n",
      "2  LightGBM  0.453441   0.309406  0.290073  0.253601  0.686532\n"
     ]
    }
   ],
   "source": [
    "metrics_df = pd.DataFrame(columns=['Model', 'Accuracy', 'Precision', 'Recall', 'F1', 'AUC'])\n",
    "\n",
    "def evaluate_model(y_true, y_pred, model_name, y_probs=None):\n",
    "    acc = accuracy_score(y_true, y_pred)\n",
    "    prec = precision_score(y_true, y_pred, average='macro')  # Use 'macro' for multiclass\n",
    "    rec = recall_score(y_true, y_pred, average='macro')      # Use 'macro' for multiclass\n",
    "    f1 = f1_score(y_true, y_pred, average='macro')            # Use 'macro' for multiclass\n",
    "    auc = roc_auc_score(y_true, y_probs, average='macro', multi_class='ovr') if y_probs is not None else np.nan  # For multiclass AUC\n",
    "    return {'Model': model_name, 'Accuracy': acc, 'Precision': prec, 'Recall': rec, 'F1': f1, 'AUC': auc}\n",
    "\n",
    "# XGBoost\n",
    "xgb_probs = xgb_model.predict_proba(X_test)\n",
    "xgb_metrics = evaluate_model(y_test, xgb_preds, 'XGBoost', xgb_probs)\n",
    "metrics_df = pd.concat([metrics_df, pd.DataFrame([xgb_metrics])], ignore_index=True)\n",
    "\n",
    "# CatBoost\n",
    "cat_probs = cat_model.predict_proba(X_test)\n",
    "cat_metrics = evaluate_model(y_test, cat_preds, 'CatBoost', cat_probs)\n",
    "metrics_df = pd.concat([metrics_df, pd.DataFrame([cat_metrics])], ignore_index=True)\n",
    "\n",
    "# LightGBM\n",
    "lgb_probs = lgb_model.predict_proba(X_test)\n",
    "lgb_metrics = evaluate_model(y_test, lgb_preds, 'LightGBM', lgb_probs)\n",
    "metrics_df = pd.concat([metrics_df, pd.DataFrame([lgb_metrics])], ignore_index=True)\n",
    "\n",
    "print(metrics_df)"
   ]
  },
  {
   "cell_type": "code",
   "execution_count": 29,
   "id": "d5b8eae9-b881-4ba7-813c-8e4f2e781d4e",
   "metadata": {},
   "outputs": [
    {
     "data": {
      "image/png": "[encoded data removed]",
      "text/plain": [
       "<Figure size 1200x800 with 1 Axes>"
      ]
     },
     "metadata": {},
     "output_type": "display_data"
    }
   ],
   "source": [
    " Visualisation of the models\n",
    "sns.set_palette('deep')\n",
    "plt.figure(figsize=(12,8))\n",
    "melted = metrics_df.melt(id_vars='Model', value_vars=['Accuracy', 'Precision', 'Recall', 'F1', 'AUC'])\n",
    "sns.barplot(x='variable', y='value', hue='Model', data=melted)\n",
    "plt.title('Classification Metrics Comparison Across Models',fontsize=16)\n",
    "plt.ylabel('Performance Score', fontsize=14)\n",
    "plt.ylim(0,1)\n",
    "plt.show()"
   ]
  },
  {
   "cell_type": "code",
   "execution_count": null,
   "id": "601d750a-9a1e-47b4-8551-9814fda3d6a5",
   "metadata": {},
   "outputs": [],
   "source": [
    "# Initialize a list to hold the results\n",
    "#BGBOOST RESULTS AND BEST PREDICTED\n",
    "scaler_dict = {\n",
    "    'robust': RobustScaler(),\n",
    "    'standard': StandardScaler(),\n",
    "    'minmax': MinMaxScaler(),\n",
    "    'maxabs': MaxAbsScaler()\n",
    "}\n",
    "# Initialize a list to hold the results\n",
    "results = []\n",
    "\n",
    "# Loop through scalers\n",
    "for scaler_name, scaled_df in scaled_datasets.items():\n",
    "    # Prepare data\n",
    "    X_data = scaled_df[[\n",
    "        \"department\", \"education\", \"age\", \"gender\", \"recruitment_channel\",\n",
    "        \"avg_training_score\", \"length_of_service\", \"awards_won?\"\n",
    "    ]]\n",
    "    y_data = scaled_df[\"KPIs_met >80%\"].apply(lambda x: 1 if x == 1 else 0)\n",
    "    \n",
    "    # Encode categoricals\n",
    "    X_encoded = X_data.copy()\n",
    "    categorical_cols = [\"department\", \"education\", \"gender\", \"recruitment_channel\"]\n",
    "    le = LabelEncoder()\n",
    "    for col in categorical_cols:\n",
    "        X_encoded[col] = le.fit_transform(X_encoded[col])\n",
    "    \n",
    "    # Train/test split\n",
    "    X_train, X_test, y_train, y_test = train_test_split(X_encoded, y_data, test_size=0.2, random_state=42)\n",
    "\n",
    "    # Scale features using the selected scaler\n",
    "    scaler = scaler_dict[scaler_name.lower()]\n",
    "    X_train_scaled = scaler.fit_transform(X_train)\n",
    "    X_test_scaled = scaler.transform(X_test)\n",
    "    \n",
    "    # Train XGBoost model\n",
    "    model = XGBClassifier(use_label_encoder=False, eval_metric='logloss')\n",
    "    model.fit(X_train_scaled, y_train)\n",
    "\n",
    "    # Predictions\n",
    "    y_pred = model.predict(X_test_scaled)\n",
    "    y_proba = model.predict_proba(X_test_scaled)[:, 1]\n",
    "\n",
    "    # Metrics\n",
    "    accuracy = accuracy_score(y_test, y_pred)\n",
    "    auc = roc_auc_score(y_test, y_proba)\n",
    "    recall = recall_score(y_test, y_pred)\n",
    "    precision = precision_score(y_test, y_pred)\n",
    "    f1 = f1_score(y_test, y_pred)\n",
    "    conf_matrix = confusion_matrix(y_test, y_pred)\n",
    "\n",
    "    # Store results\n",
    "    results.append({\n",
    "        'Scaler': scaler_name,\n",
    "        'Model': 'XGBoost',\n",
    "        'Accuracy': accuracy,\n",
    "        'AUC-ROC': auc,\n",
    "        'Precision': precision,\n",
    "        'Recall': recall,\n",
    "        'F1 Score': f1,\n",
    "        'Confusion Matrix': conf_matrix\n",
    "    })\n",
    "\n",
    "# Create DataFrame from results\n",
    "results_df = pd.DataFrame(results)\n",
    "\n",
    "# Sort by accuracy (or any other metric you prefer)\n",
    "best_results = results_df.sort_values(by='Accuracy', ascending=False)\n",
    "\n",
    "# Display the best results\n",
    "print(\"Best Results (Highest Accuracy):\")\n",
    "print(best_results.head())\n",
    "\n",
    "# Document the best scaler and model combination\n",
    "best_scaler_model = best_results.iloc[0]\n",
    "print(\"\\nBest Scaler and Model Combination:\")\n",
    "print(f\"Scaler: {best_scaler_model['Scaler']}\")\n",
    "print(f\"Model: {best_scaler_model['Model']}\")\n",
    "print(f\"Accuracy: {best_scaler_model['Accuracy']}\")\n",
    "print(f\"Precision: {best_scaler_model['Precision']}\")\n",
    "print(f\"Recall: {best_scaler_model['Recall']}\")\n",
    "print(f\"F1 Score: {best_scaler_model['F1 Score']}\")\n",
    "print(f\"AUC-ROC: {best_scaler_model['AUC-ROC']}\")\n",
    "\n",
    "# Optionally, you can visualize the confusion matrix for the best model\n",
    "print(f\"Confusion Matrix for Best Model:\\n{best_scaler_model['Confusion Matrix']}\")\n"
   ]
  },
  {
   "cell_type": "code",
   "execution_count": null,
   "id": "51d02d1c-c583-4f8e-b1cc-78309d6967b7",
   "metadata": {},
   "outputs": [],
   "source": [
    "# Initialize a list to hold the results\n",
    "# RESULTS AND BEST PREDICTED\n",
    "scaler_dict = {\n",
    "    'robust': RobustScaler(),\n",
    "    'standard': StandardScaler(),\n",
    "    'minmax': MinMaxScaler(),\n",
    "    'maxabs': MaxAbsScaler()\n",
    "}\n",
    "# Initialize a list to hold the results\n",
    "results = []\n",
    "\n",
    "# Loop through scalers\n",
    "for scaler_name, scaled_df in scaled_datasets.items():\n",
    "    # Prepare data\n",
    "    X_data = scaled_df[[\n",
    "        \"department\", \"education\", \"age\", \"gender\", \"recruitment_channel\",\n",
    "        \"avg_training_score\", \"length_of_service\", \"awards_won?\"\n",
    "    ]]\n",
    "    y_data = scaled_df[\"KPIs_met >80%\"].apply(lambda x: 1 if x == 1 else 0)\n",
    "    \n",
    "    # Encode categoricals\n",
    "    X_encoded = X_data.copy()\n",
    "    categorical_cols = [\"department\", \"education\", \"gender\", \"recruitment_channel\"]\n",
    "    le = LabelEncoder()\n",
    "    for col in categorical_cols:\n",
    "        X_encoded[col] = le.fit_transform(X_encoded[col])\n",
    "    \n",
    "    # Train/test split\n",
    "    X_train, X_test, y_train, y_test = train_test_split(X_encoded, y_data, test_size=0.2, random_state=42)\n",
    "\n",
    "    # Scale features using the selected scaler\n",
    "    scaler = scaler_dict[scaler_name.lower()]\n",
    "    X_train_scaled = scaler.fit_transform(X_train)\n",
    "    X_test_scaled = scaler.transform(X_test)\n",
    "    \n",
    "   # CatBoost\n",
    "    cat_model = CatBoostClassifier(verbose=0)\n",
    "    cat_model.fit(X_train_scaled, y_train)\n",
    "\n",
    "    y_pred = cat_model.predict(X_test_scaled)\n",
    "    y_proba = cat_model.predict_proba(X_test_scaled)[:, 1]\n",
    "\n",
    "    # Metrics\n",
    "    accuracy = accuracy_score(y_test, y_pred)\n",
    "    auc = roc_auc_score(y_test, y_proba)\n",
    "    recall = recall_score(y_test, y_pred)\n",
    "    precision = precision_score(y_test, y_pred)\n",
    "    f1 = f1_score(y_test, y_pred)\n",
    "    conf_matrix = confusion_matrix(y_test, y_pred)\n",
    "\n",
    "    # Store results\n",
    "    results.append({\n",
    "        'Scaler': scaler_name,\n",
    "        'Model': 'CatBoost',\n",
    "        'Accuracy': accuracy,\n",
    "        'AUC-ROC': auc,\n",
    "        'Precision': precision,\n",
    "        'Recall': recall,\n",
    "        'F1 Score': f1,\n",
    "        'Confusion Matrix': conf_matrix\n",
    "    })\n",
    "\n",
    "# Create DataFrame from results\n",
    "results_df = pd.DataFrame(results)\n",
    "\n",
    "# Sort by accuracy (or any other metric you prefer)\n",
    "best_results = results_df.sort_values(by='Accuracy', ascending=False)\n",
    "\n",
    "# Display the best results\n",
    "print(\"Best Results (Highest Accuracy):\")\n",
    "print(best_results.head())\n",
    "\n",
    "# Document the best scaler and model combination\n",
    "best_scaler_model = best_results.iloc[0]\n",
    "print(\"\\nBest Scaler and Model Combination:\")\n",
    "print(f\"Scaler: {best_scaler_model['Scaler']}\")\n",
    "print(f\"Model: {best_scaler_model['Model']}\")\n",
    "print(f\"Accuracy: {best_scaler_model['Accuracy']}\")\n",
    "print(f\"Precision: {best_scaler_model['Precision']}\")\n",
    "print(f\"Recall: {best_scaler_model['Recall']}\")\n",
    "print(f\"F1 Score: {best_scaler_model['F1 Score']}\")\n",
    "print(f\"AUC-ROC: {best_scaler_model['AUC-ROC']}\")\n",
    "\n",
    "# Optionally, you can visualize the confusion matrix for the best model\n",
    "print(f\"Confusion Matrix for Best Model:\\n{best_scaler_model['Confusion Matrix']}\")"
   ]
  },
  {
   "cell_type": "code",
   "execution_count": null,
   "id": "604f4f94-803c-40f3-89c8-05af51fe46d5",
   "metadata": {},
   "outputs": [],
   "source": [
    "# Initialize a list to hold the results\n",
    "#BGBOOST RESULTS AND BEST PREDICTED\n",
    "scaler_dict = {\n",
    "    'robust': RobustScaler(),\n",
    "    'standard': StandardScaler(),\n",
    "    'minmax': MinMaxScaler(),\n",
    "    'maxabs': MaxAbsScaler()\n",
    "}\n",
    "# Initialize a list to hold the results\n",
    "results = []\n",
    "\n",
    "# Loop through scalers\n",
    "for scaler_name, scaled_df in scaled_datasets.items():\n",
    "    # Prepare data\n",
    "    X_data = scaled_df[[\n",
    "        \"department\", \"education\", \"age\", \"gender\", \"recruitment_channel\",\n",
    "        \"avg_training_score\", \"length_of_service\", \"awards_won?\"\n",
    "    ]]\n",
    "    y_data = scaled_df[\"KPIs_met >80%\"].apply(lambda x: 1 if x == 1 else 0)\n",
    "    \n",
    "    # Encode categoricals\n",
    "    X_encoded = X_data.copy()\n",
    "    categorical_cols = [\"department\", \"education\", \"gender\", \"recruitment_channel\"]\n",
    "    le = LabelEncoder()\n",
    "    for col in categorical_cols:\n",
    "        X_encoded[col] = le.fit_transform(X_encoded[col])\n",
    "    \n",
    "    # Train/test split\n",
    "    X_train, X_test, y_train, y_test = train_test_split(X_encoded, y_data, test_size=0.2, random_state=42)\n",
    "\n",
    "    # Scale features using the selected scaler\n",
    "    scaler = scaler_dict[scaler_name.lower()]\n",
    "    X_train_scaled = scaler.fit_transform(X_train)\n",
    "    X_test_scaled = scaler.transform(X_test)\n",
    "    \n",
    "  \n",
    "    # LightGBM\n",
    "    lgbm_model = LGBMClassifier()\n",
    "    lgbm_model.fit(X_train_scaled, y_train)\n",
    "    \n",
    "    y_pred = lgbm_model.predict(X_test_scaled)\n",
    "    y_proba = lgbm_model.predict_proba(X_test_scaled)[:, 1]\n",
    "\n",
    "    # Metrics\n",
    "    accuracy = accuracy_score(y_test, y_pred)\n",
    "    auc = roc_auc_score(y_test, y_proba)\n",
    "    recall = recall_score(y_test, y_pred)\n",
    "    precision = precision_score(y_test, y_pred)\n",
    "    f1 = f1_score(y_test, y_pred)\n",
    "    conf_matrix = confusion_matrix(y_test, y_pred)\n",
    "\n",
    "    # Store results\n",
    "    results.append({\n",
    "        'Scaler': scaler_name,\n",
    "        'Model': 'LightGBM',\n",
    "        'Accuracy': accuracy,\n",
    "        'AUC-ROC': auc,\n",
    "        'Precision': precision,\n",
    "        'Recall': recall,\n",
    "        'F1 Score': f1,\n",
    "        'Confusion Matrix': conf_matrix\n",
    "    })\n",
    "\n",
    "# Create DataFrame from results\n",
    "results_df = pd.DataFrame(results)\n",
    "\n",
    "# Sort by accuracy (or any other metric you prefer)\n",
    "best_results = results_df.sort_values(by='Accuracy', ascending=False)\n",
    "\n",
    "# Display the best results\n",
    "print(\"Best Results (Highest Accuracy):\")\n",
    "print(best_results.head())\n",
    "\n",
    "# Document the best scaler and model combination\n",
    "best_scaler_model = best_results.iloc[0]\n",
    "print(\"\\nBest Scaler and Model Combination:\")\n",
    "print(f\"Scaler: {best_scaler_model['Scaler']}\")\n",
    "print(f\"Model: {best_scaler_model['Model']}\")\n",
    "print(f\"Accuracy: {best_scaler_model['Accuracy']}\")\n",
    "print(f\"Precision: {best_scaler_model['Precision']}\")\n",
    "print(f\"Recall: {best_scaler_model['Recall']}\")\n",
    "print(f\"F1 Score: {best_scaler_model['F1 Score']}\")\n",
    "print(f\"AUC-ROC: {best_scaler_model['AUC-ROC']}\")\n",
    "\n",
    "# Optionally, you can visualize the confusion matrix for the best model\n",
    "print(f\"Confusion Matrix for Best Model:\\n{best_scaler_model['Confusion Matrix']}\")"
   ]
  },
  {
   "cell_type": "markdown",
   "id": "d8d8b2f7-fc5c-407b-a752-75e17c7940da",
   "metadata": {},
   "source": [
    "<b>Among the three models, LightGBM with StandardScaler has the highest accuracy (65.26%), precision (55.4%), and AUC-ROC (0.624) according to the results, indicating that it better prevents false positives, which inadvertently reward underperforming performance. Its weaker recall, however, suggests that it might overlook some high performers. All things considered, LightGBM is the ideal model if achieving accuracy and balanced performance is more important than capturing every high performer."
   ]
  },
  {
   "cell_type": "code",
   "execution_count": null,
   "id": "13157d1c-b830-4164-ae3a-cbda7aa40a8f",
   "metadata": {},
   "outputs": [],
   "source": []
  }
 ],
 "metadata": {
  "kernelspec": {
   "display_name": "Python 3 (ipykernel)",
   "language": "python",
   "name": "python3"
  },
  "language_info": {
   "codemirror_mode": {
    "name": "ipython",
    "version": 3
   },
   "file_extension": ".py",
   "mimetype": "text/x-python",
   "name": "python",
   "nbconvert_exporter": "python",
   "pygments_lexer": "ipython3",
   "version": "3.12.4"
  }
 },
 "nbformat": 4,
 "nbformat_minor": 5
}
